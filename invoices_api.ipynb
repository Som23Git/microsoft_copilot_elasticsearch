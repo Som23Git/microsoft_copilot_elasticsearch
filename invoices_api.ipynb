{
 "cells": [
  {
   "cell_type": "markdown",
   "id": "386dbd82",
   "metadata": {},
   "source": [
    "# Enhance Microsoft Copilot with Elasticsearch\n",
    "\n",
    "This notebook execute an API that allows you to search for invoices using Elasticsearch generating a Ngrok tunnel to expose the API to the internet. This notebook is based on the article [Enhance Microsoft Copilot with Elasticsearch](https://www.elastic.co/blog/enhance-microsoft-copilot-with-elasticsearch)."
   ]
  },
  {
   "cell_type": "code",
   "execution_count": 34,
   "id": "d460f865",
   "metadata": {},
   "outputs": [
    {
     "name": "stdout",
     "output_type": "stream",
     "text": [
      "Note: you may need to restart the kernel to use updated packages.\n"
     ]
    }
   ],
   "source": [
    "%pip install fastapi pyngrok uvicorn nest-asyncio elasticsearch==8 -q"
   ]
  },
  {
   "cell_type": "code",
   "execution_count": 35,
   "id": "3ac47371",
   "metadata": {},
   "outputs": [],
   "source": [
    "import os\n",
    "import json\n",
    "from getpass import getpass\n",
    "from datetime import datetime\n",
    "\n",
    "import nest_asyncio\n",
    "import uvicorn\n",
    "\n",
    "from fastapi import FastAPI, Query\n",
    "from pyngrok import conf, ngrok\n",
    "\n",
    "from elasticsearch.helpers import bulk\n",
    "from elasticsearch import Elasticsearch"
   ]
  },
  {
   "cell_type": "markdown",
   "id": "64167eee",
   "metadata": {},
   "source": [
    "## Setup Variables"
   ]
  },
  {
   "cell_type": "code",
   "execution_count": null,
   "id": "aa378fdb",
   "metadata": {},
   "outputs": [],
   "source": [
    "os.environ[\"ELASTICSEARCH_ENDPOINT\"] = getpass(\"Elastic Endpoint: \")\n",
    "os.environ[\"ELASTICSEARCH_API_KEY\"] = getpass(\"Elastic Api Key: \")\n",
    "os.environ[\"NGROK_AUTH_TOKEN\"] = getpass(\"Ngrok Auth Token: \")\n"
   ]
  },
  {
   "cell_type": "markdown",
   "id": "31041b60",
   "metadata": {},
   "source": [
    "## Elasticsearch client"
   ]
  },
  {
   "cell_type": "code",
   "execution_count": 39,
   "id": "4d8a8201",
   "metadata": {},
   "outputs": [
    {
     "name": "stdout",
     "output_type": "stream",
     "text": [
      "{'name': 'instance-0000000001', 'cluster_name': '866835bbfb764f628f65995818b8f749', 'cluster_uuid': '3ymdk30mSx2N8ZxdJ6GgFA', 'version': {'number': '8.17.5', 'build_flavor': 'default', 'build_type': 'docker', 'build_hash': '55fce5db33c28431e3a504c47d359ddbeadde69d', 'build_date': '2025-04-09T22:07:03.265074501Z', 'build_snapshot': False, 'lucene_version': '9.12.0', 'minimum_wire_compatibility_version': '7.17.0', 'minimum_index_compatibility_version': '7.0.0'}, 'tagline': 'You Know, for Search'}\n"
     ]
    }
   ],
   "source": [
    "INDEX_NAME = \"invoices-july-ms-demo\"\n",
    "\n",
    "_client = Elasticsearch(\n",
    "    os.environ[\"ELASTICSEARCH_ENDPOINT\"],\n",
    "    api_key=os.environ[\"ELASTICSEARCH_API_KEY\"],\n",
    ")\n",
    "\n",
    "try:\n",
    "    print(_client.info())\n",
    "except Exception as e:\n",
    "    print(\"Elasticsearch connection failed:\", e)\n"
   ]
  },
  {
   "cell_type": "markdown",
   "id": "07578680",
   "metadata": {},
   "source": [
    "## Mappings"
   ]
  },
  {
   "cell_type": "code",
   "execution_count": 40,
   "id": "c34a804a",
   "metadata": {},
   "outputs": [
    {
     "name": "stderr",
     "output_type": "stream",
     "text": [
      "/var/folders/5y/t1kyf6n924158j3ph207zz940000gn/T/ipykernel_4459/546217667.py:2: DeprecationWarning: The 'body' parameter is deprecated and will be removed in a future version. Instead use individual parameters.\n",
      "  _client.indices.create(\n"
     ]
    },
    {
     "name": "stdout",
     "output_type": "stream",
     "text": [
      "index created successfully\n"
     ]
    }
   ],
   "source": [
    "try:\n",
    "    _client.indices.create(\n",
    "        index=INDEX_NAME,\n",
    "        body={\n",
    "            \"mappings\": {\n",
    "                \"properties\": {\n",
    "                    \"id\": {\"type\": \"keyword\"},\n",
    "                    \"file_url\": {\"type\": \"keyword\"},\n",
    "                    \"issue_date\": {\"type\": \"date\"},\n",
    "                    \"description\": {\"type\": \"text\", \"copy_to\": \"semantic_field\"},\n",
    "                    \"services\": {\n",
    "                        \"type\": \"object\",\n",
    "                        \"properties\": {\n",
    "                            \"name\": {\n",
    "                                \"type\": \"text\",\n",
    "                                \"copy_to\": \"semantic_field\",\n",
    "                            },\n",
    "                            \"price\": {\"type\": \"float\"},\n",
    "                        },\n",
    "                    },\n",
    "                    \"total_amount\": {\n",
    "                        \"type\": \"float\",\n",
    "                    },\n",
    "                    \"semantic_field\": {\"type\": \"semantic_text\"},\n",
    "                }\n",
    "            }\n",
    "        },\n",
    "    )\n",
    "\n",
    "    print(\"index created successfully\")\n",
    "except Exception as e:\n",
    "    print(\n",
    "        f\"Error creating inference endpoint: {e.info['error']['root_cause'][0]['reason'] }\"\n",
    "    )"
   ]
  },
  {
   "cell_type": "markdown",
   "id": "02a2c25a",
   "metadata": {},
   "source": [
    "## Ingesting documents to Elasticsearch"
   ]
  },
  {
   "cell_type": "code",
   "execution_count": 41,
   "id": "69f388c0",
   "metadata": {},
   "outputs": [],
   "source": [
    "with open(\"invoices_data.json\", \"r\", encoding=\"utf-8\") as f:\n",
    "    invoices = json.load(f)"
   ]
  },
  {
   "cell_type": "code",
   "execution_count": 42,
   "id": "b96c42fb",
   "metadata": {},
   "outputs": [
    {
     "name": "stdout",
     "output_type": "stream",
     "text": [
      "Error: Connection timed out, please wait some seconds and try again.\n"
     ]
    }
   ],
   "source": [
    "def build_data():\n",
    "    for doc in invoices:\n",
    "        yield {\"_index\": INDEX_NAME, \"_source\": doc}\n",
    "\n",
    "\n",
    "try:\n",
    "    success, errors = bulk(_client, build_data())\n",
    "    print(f\"{success} documents indexed successfully\")\n",
    "\n",
    "    if errors:\n",
    "        print(\"Errors during indexing:\", errors)\n",
    "\n",
    "except Exception as e:\n",
    "    print(f\"Error: {str(e)}, please wait some seconds and try again.\")"
   ]
  },
  {
   "cell_type": "markdown",
   "id": "d38c1869",
   "metadata": {},
   "source": [
    "## Building API"
   ]
  },
  {
   "cell_type": "code",
   "execution_count": 45,
   "id": "2ad221fb",
   "metadata": {},
   "outputs": [],
   "source": [
    "app = FastAPI()"
   ]
  },
  {
   "cell_type": "code",
   "execution_count": 46,
   "id": "76106dad",
   "metadata": {},
   "outputs": [],
   "source": [
    "@app.get(\"/search/semantic\")\n",
    "async def search_semantic(query: str = Query(None)):\n",
    "    try:\n",
    "        result = _client.search(\n",
    "            index=INDEX_NAME,\n",
    "            query={\n",
    "                \"semantic\": {\n",
    "                    \"field\": \"semantic_field\",\n",
    "                    \"query\": query,\n",
    "                }\n",
    "            },\n",
    "        )\n",
    "\n",
    "        hits = result[\"hits\"][\"hits\"]\n",
    "        results = [{\"score\": hit[\"_score\"], **hit[\"_source\"]} for hit in hits]\n",
    "\n",
    "        return results\n",
    "    except Exception as e:\n",
    "        return Exception(f\"Error: {str(e)}\")\n",
    "\n",
    "\n",
    "@app.get(\"/search/by-date\")\n",
    "async def search_by_date(from_date: str = Query(None), to_date: str = Query(None)):\n",
    "    try:\n",
    "        from_dt = datetime.strptime(from_date, \"%m/%d/%Y %I:%M:%S %p\")\n",
    "        to_dt = datetime.strptime(to_date, \"%m/%d/%Y %I:%M:%S %p\")\n",
    "\n",
    "        formatted_from = from_dt.strftime(\"%d/%m/%Y\")\n",
    "        formatted_to = to_dt.strftime(\"%d/%m/%Y\")\n",
    "\n",
    "        result = _client.search(\n",
    "            index=INDEX_NAME,\n",
    "            query={\n",
    "                \"range\": {\n",
    "                    \"issue_date\": {\n",
    "                        \"gte\": formatted_from,\n",
    "                        \"lte\": formatted_to,\n",
    "                        \"format\": \"dd/MM/yyyy\",\n",
    "                    }\n",
    "                }\n",
    "            },\n",
    "        )\n",
    "\n",
    "        hits = result[\"hits\"][\"hits\"]\n",
    "        results = [hit[\"_source\"] for hit in hits]\n",
    "\n",
    "        return results\n",
    "    except Exception as e:\n",
    "        return Exception(f\"Error: {str(e)}\")"
   ]
  },
  {
   "cell_type": "markdown",
   "id": "cf1460e9",
   "metadata": {},
   "source": [
    "## Running the API"
   ]
  },
  {
   "cell_type": "code",
   "execution_count": 47,
   "id": "517c85c3",
   "metadata": {},
   "outputs": [
    {
     "name": "stdout",
     "output_type": "stream",
     "text": [
      "Public URL: https://ae69453817fe.ngrok-free.app\n"
     ]
    },
    {
     "name": "stderr",
     "output_type": "stream",
     "text": [
      "INFO:     Started server process [4459]\n",
      "INFO:     Waiting for application startup.\n",
      "INFO:     Application startup complete.\n",
      "INFO:     Uvicorn running on http://127.0.0.1:8000 (Press CTRL+C to quit)\n"
     ]
    },
    {
     "name": "stdout",
     "output_type": "stream",
     "text": [
      "INFO:     2405:201:e007:4814:d8e8:8aae:e57f:3eff:0 - \"GET / HTTP/1.1\" 404 Not Found\n",
      "INFO:     2405:201:e007:4814:d8e8:8aae:e57f:3eff:0 - \"GET /favicon.ico HTTP/1.1\" 404 Not Found\n",
      "INFO:     2405:201:e007:4814:d8e8:8aae:e57f:3eff:0 - \"GET / HTTP/1.1\" 404 Not Found\n",
      "INFO:     20.192.168.96:0 - \"GET /search/semantic?query=top%20spent%20invoices HTTP/1.1\" 200 OK\n",
      "INFO:     20.192.168.96:0 - \"GET /search/semantic?query=top%20spent%20invoices%20for%20dinner HTTP/1.1\" 200 OK\n",
      "INFO:     20.192.168.96:0 - \"GET /search/semantic?query=Electronics%20and%20android%20services HTTP/1.1\" 200 OK\n",
      "INFO:     20.192.168.96:0 - \"GET /search/by-date?from_date=04%2F01%2F2025%2012%3A00%3A00%20AM&to_date=04%2F30%2F2025%2011%3A59%3A59%20PM HTTP/1.1\" 200 OK\n",
      "INFO:     20.192.168.96:0 - \"GET /search/semantic?query=highest%20spent%20invoice HTTP/1.1\" 200 OK\n",
      "INFO:     20.192.168.96:0 - \"GET /search/by-date?from_date=04%2F01%2F2025%2012%3A00%3A00%20AM&to_date=04%2F30%2F2025%2011%3A59%3A59%20PM HTTP/1.1\" 200 OK\n"
     ]
    },
    {
     "name": "stderr",
     "output_type": "stream",
     "text": [
      "INFO:     Shutting down\n",
      "INFO:     Waiting for application shutdown.\n",
      "INFO:     Application shutdown complete.\n",
      "INFO:     Finished server process [4459]\n"
     ]
    }
   ],
   "source": [
    "conf.get_default().auth_token = os.environ[\"NGROK_AUTH_TOKEN\"]\n",
    "ngrok_tunnel = ngrok.connect(8000)\n",
    "\n",
    "print(\"Public URL:\", ngrok_tunnel.public_url)\n",
    "\n",
    "nest_asyncio.apply()\n",
    "uvicorn.run(app, port=8000)"
   ]
  },
  {
   "cell_type": "markdown",
   "id": "ccffd29a",
   "metadata": {},
   "source": [
    "## Delete the index"
   ]
  },
  {
   "cell_type": "code",
   "execution_count": null,
   "id": "991ba4e4",
   "metadata": {},
   "outputs": [],
   "source": [
    "def print_results(results):\n",
    "    if results.get(\"acknowledged\", False):\n",
    "        print(\"DELETED successfully.\")\n",
    "\n",
    "    if \"error\" in results:\n",
    "        print(f\"ERROR: {results['error']['root_cause'][0]['reason']}\")\n",
    "\n",
    "\n",
    "# Cleanup - Delete Index\n",
    "result = _client.indices.delete(index=INDEX_NAME, ignore=[400, 404])\n",
    "print_results(result)"
   ]
  }
 ],
 "metadata": {
  "kernelspec": {
   "display_name": "venv",
   "language": "python",
   "name": "python3"
  },
  "language_info": {
   "codemirror_mode": {
    "name": "ipython",
    "version": 3
   },
   "file_extension": ".py",
   "mimetype": "text/x-python",
   "name": "python",
   "nbconvert_exporter": "python",
   "pygments_lexer": "ipython3",
   "version": "3.13.3"
  }
 },
 "nbformat": 4,
 "nbformat_minor": 5
}
